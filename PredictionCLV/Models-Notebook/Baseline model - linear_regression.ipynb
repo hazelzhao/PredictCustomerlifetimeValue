{
 "cells": [
  {
   "cell_type": "code",
   "execution_count": 37,
   "metadata": {},
   "outputs": [],
   "source": [
    "import pandas as pd\n",
    "import numpy as np\n",
    "df_ft = pd.read_csv('features_n_target.csv')\n",
    "\n",
    "features = [\n",
    " 'monetary_DNN',\n",
    " 'frequency_DNN',\n",
    " 'recency',\n",
    " 't',\n",
    " 'time_between',\n",
    " 'avg_basket_value',\n",
    " 'avg_basket_size',\n",
    " 'cnt_returns',\n",
    " 'has_returned']\n",
    "numeric_f = ['monetary_DNN','frequency_DNN','recency','t',\n",
    "              'time_between','avg_basket_value','avg_basket_size','cnt_returns']\n",
    "cate_f = ['has_returned']\n",
    "\n",
    "target = ['target_monetary']\n",
    "\n",
    "from sklearn.model_selection import train_test_split\n",
    "from sklearn.preprocessing import MinMaxScaler\n",
    "X_train_full,X_test,y_train_full,y_test = train_test_split(df_ft[features],test_size=0.2,df_ft[target],random_state = 42)\n",
    "X_train,X_valid,y_train,y_valid = train_test_split(X_train_full,y_train_full,test_size = 0.15, random_state = 42)\n",
    "\n",
    "# scaler =  MinMaxScaler()\n",
    "# X_train= scaler.fit_transform(X_train)\n",
    "# X_train_full = scaler.fit_transform(X_train_full)\n",
    "# X_test = scaler.transform(X_test)\n",
    "\n",
    "np.random.seed(42)\n"
   ]
  },
  {
   "cell_type": "code",
   "execution_count": 38,
   "metadata": {},
   "outputs": [
    {
     "name": "stdout",
     "output_type": "stream",
     "text": [
      "Root Mean Squared Error: 2177.4562169558803 \n",
      "R Score: 0.8624987797970616 \n",
      "Mean Absolute Error: 979.985248185179\n"
     ]
    }
   ],
   "source": [
    "from sklearn.linear_model import LinearRegression\n",
    "from sklearn.metrics import mean_squared_error, r2_score,mean_absolute_error\n",
    "\n",
    "\n",
    "base = LinearRegression().fit(X_train,y_train)\n",
    "pred = base.predict(X_test)\n",
    "r_score = r2_score(y_test,pred)\n",
    "rmse = np.sqrt(mean_squared_error(y_test,pred))\n",
    "mae = mean_absolute_error(y_test,pred)\n",
    "print('Root Mean Squared Error:',rmse,'\\nR Score:',r_score,'\\nMean Absolute Error:',mae)\n"
   ]
  }
 ],
 "metadata": {
  "kernelspec": {
   "display_name": "Python 3",
   "language": "python",
   "name": "python3"
  },
  "language_info": {
   "codemirror_mode": {
    "name": "ipython",
    "version": 3
   },
   "file_extension": ".py",
   "mimetype": "text/x-python",
   "name": "python",
   "nbconvert_exporter": "python",
   "pygments_lexer": "ipython3",
   "version": "3.8.2"
  }
 },
 "nbformat": 4,
 "nbformat_minor": 5
}
