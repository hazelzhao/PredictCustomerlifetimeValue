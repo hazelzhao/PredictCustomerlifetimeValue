{
 "cells": [
  {
   "cell_type": "markdown",
   "metadata": {},
   "source": [
    "# BG/NBD-Gamma-Gamma model  ( bytd)\n",
    "\n",
    "### Assumptions for BG/NBD - etimate the number of repreat purchase in a future period of time\n",
    "\n",
    "\n",
    "1. while active, the number of transactions made by a customer follows a Poisson Process with transaction rate $\lambda$;\n",
    "\n",
    "2. heterogeneity in transaction rates among customers follows a Gamma distribution;\n",
    "\n",
    "3. after any transaction, a customer becomes inactive with probability p.The customer “drops out” is distributed across transactions according to a Geometric distribution;\n",
    "\n",
    "4. heterogeneity in p follows a Beta distribution;\n",
    "\n",
    "5. the transaction rate and the dropout probability p vary independently across customers.\n",
    "\n",
    "\n",
    "\n",
    "### Input of BG/NBD:\n",
    "1. 'recency' : time period between the first time purchase and the last time during feature period\n",
    "\n",
    "2. 'frequency': number of orders during feature period - the first time order\n",
    "\n",
    "3. 't': time between the first time and the end of feature period\n",
    "\n",
    "\n",
    "### Assumptions for Gamma-Gamma - etimate the average value \n",
    "\n",
    "1. The monetary value of a customer's varies around their average transaction value\n",
    "\n",
    "2. heterogeneity of average value in customers but not over time for individuals \n",
    "\n",
    "3. The distribution of average transaction value across customers is independent of the transaction process\n",
    "\n",
    "### Input of Gamma-Gamma\n",
    "\n",
    "1. 'frequency':  number of orders during feature period - the first time order\n",
    "\n",
    "2.  'monetary value': average monetary value for each customer during feature period (not including the first time)\n"
   ]
  },
  {
   "cell_type": "markdown",
   "metadata": {},
   "source": [
    "# Content and Result\n",
    "\n",
    "1. Features and Models\n",
    "   Verifying Frequency & Monetary Value Independence\n",
    "\n",
    "\n",
    "2. Predict the number of repeat purchase and average value, then calculate lifetime value\n",
    "\n",
    "3. Evaluate\n",
    "\n",
    "       root_mean_squared_error: 3377.627827637902 \n",
    "   \n",
    "       mean_absolute_error: 813.5426998474852 \n",
    "\n",
    "\n",
    "4. Use absolute error access performance over different type of customers\n",
    "\n",
    "       The model has better performance for cluster 'Champion','Loyal'and 'New' comparing with customers who are about to churn and who may potentially become loyal.\n",
    "   \n",
    "   \n",
    "5.  Combine btyd model with other feature and build a linear regression mode.\n",
    "\n",
    "         Root Mean Squared Error: 1947.7269590668557\n",
    "         \n",
    "        In terms of root mean squared error, the hybrid model(1947) is much bettter than the bytd model (3377). Although the performance for 'Loyal' and 'New' is not as good as the bytd model, the performance for 'Sleep/Churn' and 'Promising' have been significantly improved."
   ]
  },
  {
   "cell_type": "markdown",
   "metadata": {},
   "source": [
    "# Features and Models "
   ]
  },
  {
   "cell_type": "code",
   "execution_count": 7,
   "metadata": {},
   "outputs": [
    {
     "data": {
      "text/html": [
       "<div>\n",
       "<style scoped>\n",
       "    .dataframe tbody tr th:only-of-type {\n",
       "        vertical-align: middle;\n",
       "    }\n",
       "\n",
       "    .dataframe tbody tr th {\n",
       "        vertical-align: top;\n",
       "    }\n",
       "\n",
       "    .dataframe thead th {\n",
       "        text-align: right;\n",
       "    }\n",
       "</style>\n",
       "<table border=\"1\" class=\"dataframe\">\n",
       "  <thead>\n",
       "    <tr style=\"text-align: right;\">\n",
       "      <th></th>\n",
       "      <th>customer_id</th>\n",
       "      <th>monetary_DNN</th>\n",
       "      <th>monetary_btyd</th>\n",
       "      <th>frequency_DNN</th>\n",
       "      <th>frequency_btyd</th>\n",
       "      <th>recency</th>\n",
       "      <th>t</th>\n",
       "      <th>time_between</th>\n",
       "      <th>avg_basket_value</th>\n",
       "      <th>avg_basket_size</th>\n",
       "      <th>cnt_returns</th>\n",
       "      <th>has_returned</th>\n",
       "      <th>frequency_btyd_clipped</th>\n",
       "      <th>monetary_btyd_clipped</th>\n",
       "      <th>target_monetary_clipped</th>\n",
       "      <th>target_monetary</th>\n",
       "    </tr>\n",
       "  </thead>\n",
       "  <tbody>\n",
       "    <tr>\n",
       "      <th>0</th>\n",
       "      <td>12347</td>\n",
       "      <td>2790.86</td>\n",
       "      <td>519.7675</td>\n",
       "      <td>5</td>\n",
       "      <td>4</td>\n",
       "      <td>238</td>\n",
       "      <td>268</td>\n",
       "      <td>47.0</td>\n",
       "      <td>558.17</td>\n",
       "      <td>318.00</td>\n",
       "      <td>0</td>\n",
       "      <td>0</td>\n",
       "      <td>4</td>\n",
       "      <td>519.77</td>\n",
       "      <td>4310.00</td>\n",
       "      <td>4310.00</td>\n",
       "    </tr>\n",
       "    <tr>\n",
       "      <th>1</th>\n",
       "      <td>12348</td>\n",
       "      <td>1487.24</td>\n",
       "      <td>297.2200</td>\n",
       "      <td>3</td>\n",
       "      <td>2</td>\n",
       "      <td>110</td>\n",
       "      <td>259</td>\n",
       "      <td>36.0</td>\n",
       "      <td>495.75</td>\n",
       "      <td>708.00</td>\n",
       "      <td>0</td>\n",
       "      <td>0</td>\n",
       "      <td>2</td>\n",
       "      <td>297.22</td>\n",
       "      <td>1797.24</td>\n",
       "      <td>1797.24</td>\n",
       "    </tr>\n",
       "    <tr>\n",
       "      <th>2</th>\n",
       "      <td>12352</td>\n",
       "      <td>601.18</td>\n",
       "      <td>101.5600</td>\n",
       "      <td>4</td>\n",
       "      <td>3</td>\n",
       "      <td>34</td>\n",
       "      <td>197</td>\n",
       "      <td>8.0</td>\n",
       "      <td>150.30</td>\n",
       "      <td>47.00</td>\n",
       "      <td>0</td>\n",
       "      <td>0</td>\n",
       "      <td>3</td>\n",
       "      <td>101.56</td>\n",
       "      <td>1545.41</td>\n",
       "      <td>1545.41</td>\n",
       "    </tr>\n",
       "    <tr>\n",
       "      <th>3</th>\n",
       "      <td>12356</td>\n",
       "      <td>2753.08</td>\n",
       "      <td>481.4600</td>\n",
       "      <td>2</td>\n",
       "      <td>1</td>\n",
       "      <td>80</td>\n",
       "      <td>226</td>\n",
       "      <td>40.0</td>\n",
       "      <td>1376.54</td>\n",
       "      <td>793.00</td>\n",
       "      <td>0</td>\n",
       "      <td>0</td>\n",
       "      <td>1</td>\n",
       "      <td>481.46</td>\n",
       "      <td>2811.43</td>\n",
       "      <td>2811.43</td>\n",
       "    </tr>\n",
       "    <tr>\n",
       "      <th>4</th>\n",
       "      <td>12359</td>\n",
       "      <td>3459.93</td>\n",
       "      <td>970.8100</td>\n",
       "      <td>4</td>\n",
       "      <td>3</td>\n",
       "      <td>142</td>\n",
       "      <td>232</td>\n",
       "      <td>35.0</td>\n",
       "      <td>864.98</td>\n",
       "      <td>240.25</td>\n",
       "      <td>1</td>\n",
       "      <td>1</td>\n",
       "      <td>3</td>\n",
       "      <td>970.81</td>\n",
       "      <td>6245.53</td>\n",
       "      <td>6245.53</td>\n",
       "    </tr>\n",
       "  </tbody>\n",
       "</table>\n",
       "</div>"
      ],
      "text/plain": [
       "   customer_id  monetary_DNN  monetary_btyd  frequency_DNN  frequency_btyd  \\\n",
       "0        12347       2790.86       519.7675              5               4   \n",
       "1        12348       1487.24       297.2200              3               2   \n",
       "2        12352        601.18       101.5600              4               3   \n",
       "3        12356       2753.08       481.4600              2               1   \n",
       "4        12359       3459.93       970.8100              4               3   \n",
       "\n",
       "   recency    t  time_between  avg_basket_value  avg_basket_size  cnt_returns  \\\n",
       "0      238  268          47.0            558.17           318.00            0   \n",
       "1      110  259          36.0            495.75           708.00            0   \n",
       "2       34  197           8.0            150.30            47.00            0   \n",
       "3       80  226          40.0           1376.54           793.00            0   \n",
       "4      142  232          35.0            864.98           240.25            1   \n",
       "\n",
       "   has_returned  frequency_btyd_clipped  monetary_btyd_clipped  \\\n",
       "0             0                       4                 519.77   \n",
       "1             0                       2                 297.22   \n",
       "2             0                       3                 101.56   \n",
       "3             0                       1                 481.46   \n",
       "4             1                       3                 970.81   \n",
       "\n",
       "   target_monetary_clipped  target_monetary  \n",
       "0                  4310.00          4310.00  \n",
       "1                  1797.24          1797.24  \n",
       "2                  1545.41          1545.41  \n",
       "3                  2811.43          2811.43  \n",
       "4                  6245.53          6245.53  "
      ]
     },
     "execution_count": 7,
     "metadata": {},
     "output_type": "execute_result"
    }
   ],
   "source": [
    "import pandas as pd\n",
    "import numpy as np\n",
    "# from sklearn.metrics import r2_score\n",
    "\n",
    "from lifetimes import BetaGeoFitter,GammaGammaFitter\n",
    "\n",
    "df_ft = pd.read_csv('features_n_target.csv')\n",
    "df_ft.head()\n",
    "\n"
   ]
  },
  {
   "cell_type": "code",
   "execution_count": 8,
   "metadata": {},
   "outputs": [],
   "source": [
    "# Extract relevant col for RFM\n",
    "\n",
    "# summary has aggregated values before the threshold date\n",
    "# actual_df has values of the overall period.\n",
    "summary = df_ft[['customer_id', 'frequency_btyd', 'recency', 't',\n",
    "               'monetary_btyd']]\n",
    "\n",
    "summary.columns = ['customer_id', 'frequency', 'recency', 't',\n",
    "                 'monetary_value']\n",
    "\n",
    "summary = summary.set_index('customer_id')\n",
    "\n",
    "# additional columns needed for calculating error\n",
    "actual_df = df_ft[['customer_id', 'frequency_btyd', 'monetary_DNN',\n",
    "                 'target_monetary']]\n",
    "actual_df.columns = ['customer_id', 'train_frequency', 'train_monetary',\n",
    "                   'act_target_monetary']\n"
   ]
  },
  {
   "cell_type": "code",
   "execution_count": 9,
   "metadata": {},
   "outputs": [],
   "source": [
    "PENALIZER= 0.1\n",
    "def bgnbd_model(summary):\n",
    "    bgf = BetaGeoFitter(penalizer_coef=PENALIZER)\n",
    "    bgf.fit(summary['frequency'], summary['recency'], summary['t'])\n",
    "    return bgf\n",
    "\n",
    "def ggf_model(summary):\n",
    "    ggf = GammaGammaFitter(penalizer_coef=0)\n",
    "    ggf.fit(summary['frequency'], summary['monetary_value'])\n",
    "    return ggf \n",
    "\n"
   ]
  },
  {
   "cell_type": "markdown",
   "metadata": {},
   "source": [
    "# Verifying Frequency & Monetary Value Independence\n",
    "\n",
    "Before proceeding with our modeling, the gamma-gamma model (named for the two gamma distributions described earlier) that we will employ assumes that the frequency of a customer's purchases does not affect the monetary value of those purchases. It's important that we test this and we can do so with the calculation of a simple Pearson's coefficient against our frequency and monetary value metrics. We'll do this for the entire dataset, ignoring the calibration and holdout subsets, for this one analysis:"
   ]
  },
  {
   "cell_type": "code",
   "execution_count": 10,
   "metadata": {},
   "outputs": [
    {
     "data": {
      "text/html": [
       "<div>\n",
       "<style scoped>\n",
       "    .dataframe tbody tr th:only-of-type {\n",
       "        vertical-align: middle;\n",
       "    }\n",
       "\n",
       "    .dataframe tbody tr th {\n",
       "        vertical-align: top;\n",
       "    }\n",
       "\n",
       "    .dataframe thead th {\n",
       "        text-align: right;\n",
       "    }\n",
       "</style>\n",
       "<table border=\"1\" class=\"dataframe\">\n",
       "  <thead>\n",
       "    <tr style=\"text-align: right;\">\n",
       "      <th></th>\n",
       "      <th>frequency</th>\n",
       "      <th>monetary_value</th>\n",
       "    </tr>\n",
       "  </thead>\n",
       "  <tbody>\n",
       "    <tr>\n",
       "      <th>frequency</th>\n",
       "      <td>1.000000</td>\n",
       "      <td>0.119568</td>\n",
       "    </tr>\n",
       "    <tr>\n",
       "      <th>monetary_value</th>\n",
       "      <td>0.119568</td>\n",
       "      <td>1.000000</td>\n",
       "    </tr>\n",
       "  </tbody>\n",
       "</table>\n",
       "</div>"
      ],
      "text/plain": [
       "                frequency  monetary_value\n",
       "frequency        1.000000        0.119568\n",
       "monetary_value   0.119568        1.000000"
      ]
     },
     "execution_count": 10,
     "metadata": {},
     "output_type": "execute_result"
    }
   ],
   "source": [
    "summary[['frequency','monetary_value']].corr()"
   ]
  },
  {
   "cell_type": "markdown",
   "metadata": {},
   "source": [
    "While not perfectly independent, the correlation between these two values is pretty low so that we should be able to proceed with model training."
   ]
  },
  {
   "cell_type": "code",
   "execution_count": 11,
   "metadata": {},
   "outputs": [],
   "source": [
    "from datetime import datetime\n",
    "import math\n",
    "threshold_date = '2011-09-01'\n",
    "predict_end = '2011-12-09'\n",
    "train_end_date = datetime.strptime(threshold_date, '%Y-%m-%d')\n",
    "predict_end_date = datetime.strptime(predict_end, '%Y-%m-%d')\n",
    "# compute the number of days in the prediction period\n",
    "time_days = (predict_end_date - train_end_date).days\n",
    "time_months = int(math.ceil(time_days/30.0))"
   ]
  },
  {
   "cell_type": "code",
   "execution_count": 12,
   "metadata": {},
   "outputs": [],
   "source": [
    "bgf = bgnbd_model(summary)\n",
    "ggf = ggf_model(summary)"
   ]
  },
  {
   "cell_type": "markdown",
   "metadata": {},
   "source": [
    "### Predict the number of repeat purchase and average value, then calculate lifetime value"
   ]
  },
  {
   "cell_type": "code",
   "execution_count": 14,
   "metadata": {},
   "outputs": [],
   "source": [
    "def predict_value(summary, actual_df, bgf, ggf, time_days, time_months):\n",
    "\n",
    "      # setup dataframe to hold results\n",
    "    ltv = pd.DataFrame(data=np.zeros([actual_df.shape[0], 5]),\n",
    "                         columns=['customer_id',\n",
    "                                  'actual_total',\n",
    "                                  'predicted_num_purchases',\n",
    "                                  'predicted_value',\n",
    "                                  'predicted_total',\n",
    "                                  ], dtype=np.float32)\n",
    "\n",
    "    predicted_num_purchases = bgf.predict(time_days,\n",
    "                                               summary['frequency'],\n",
    "                                               summary['recency'],\n",
    "                                               summary['t'])\n",
    "\n",
    "    predicted_value = ggf.customer_lifetime_value(bgf,\n",
    "                                                    summary['frequency'],\n",
    "                                                    summary['recency'],\n",
    "                                                    summary['t'],\n",
    "                                                    summary['monetary_value'],\n",
    "                                                    time=time_months,\n",
    "                                                    discount_rate=0)\n",
    "\n",
    "    ltv['customer_id'] = actual_df['customer_id']\n",
    "    ltv['actual_total'] = actual_df['act_target_monetary']\n",
    "    ltv['predicted_num_purchases'] = predicted_num_purchases.values\n",
    "    ltv['predicted_value'] = predicted_value.values\n",
    "    ltv['predicted_total'] = actual_df['train_monetary'] + ltv['predicted_value']\n",
    "\n",
    "    \n",
    "    return ltv"
   ]
  },
  {
   "cell_type": "code",
   "execution_count": 122,
   "metadata": {},
   "outputs": [
    {
     "data": {
      "text/html": [
       "<div>\n",
       "<style scoped>\n",
       "    .dataframe tbody tr th:only-of-type {\n",
       "        vertical-align: middle;\n",
       "    }\n",
       "\n",
       "    .dataframe tbody tr th {\n",
       "        vertical-align: top;\n",
       "    }\n",
       "\n",
       "    .dataframe thead th {\n",
       "        text-align: right;\n",
       "    }\n",
       "</style>\n",
       "<table border=\"1\" class=\"dataframe\">\n",
       "  <thead>\n",
       "    <tr style=\"text-align: right;\">\n",
       "      <th></th>\n",
       "      <th>coef</th>\n",
       "      <th>se(coef)</th>\n",
       "      <th>lower 95% bound</th>\n",
       "      <th>upper 95% bound</th>\n",
       "    </tr>\n",
       "  </thead>\n",
       "  <tbody>\n",
       "    <tr>\n",
       "      <th>r</th>\n",
       "      <td>1.021667</td>\n",
       "      <td>0.029476</td>\n",
       "      <td>0.963894</td>\n",
       "      <td>1.079439</td>\n",
       "    </tr>\n",
       "    <tr>\n",
       "      <th>alpha</th>\n",
       "      <td>44.568540</td>\n",
       "      <td>1.749241</td>\n",
       "      <td>41.140028</td>\n",
       "      <td>47.997052</td>\n",
       "    </tr>\n",
       "    <tr>\n",
       "      <th>a</th>\n",
       "      <td>0.000000</td>\n",
       "      <td>0.000000</td>\n",
       "      <td>-0.000000</td>\n",
       "      <td>0.000000</td>\n",
       "    </tr>\n",
       "    <tr>\n",
       "      <th>b</th>\n",
       "      <td>0.000000</td>\n",
       "      <td>0.038894</td>\n",
       "      <td>-0.076231</td>\n",
       "      <td>0.076232</td>\n",
       "    </tr>\n",
       "  </tbody>\n",
       "</table>\n",
       "</div>"
      ],
      "text/plain": [
       "           coef  se(coef)  lower 95% bound  upper 95% bound\n",
       "r      1.021667  0.029476         0.963894         1.079439\n",
       "alpha 44.568540  1.749241        41.140028        47.997052\n",
       "a      0.000000  0.000000        -0.000000         0.000000\n",
       "b      0.000000  0.038894        -0.076231         0.076232"
      ]
     },
     "execution_count": 122,
     "metadata": {},
     "output_type": "execute_result"
    }
   ],
   "source": [
    "pd.options.display.float_format = '{:,.6f}'.format\n",
    "bgf.summary"
   ]
  },
  {
   "cell_type": "code",
   "execution_count": 140,
   "metadata": {},
   "outputs": [
    {
     "data": {
      "image/png": "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\n",
      "text/plain": [
       "<Figure size 432x288 with 1 Axes>"
      ]
     },
     "metadata": {
      "needs_background": "light"
     },
     "output_type": "display_data"
    }
   ],
   "source": [
    "from lifetimes.plotting import plot_period_transactions,plot_expected_repeat_purchases\n",
    "\n",
    "plot_period_transactions(bgf)\n",
    "plt.show()"
   ]
  },
  {
   "cell_type": "code",
   "execution_count": 148,
   "metadata": {},
   "outputs": [],
   "source": [
    "# Lifetime value \n",
    "ltv= predict_value(summary, actual_df, bgf, ggf, time_days, time_months)"
   ]
  },
  {
   "cell_type": "code",
   "execution_count": 4,
   "metadata": {},
   "outputs": [],
   "source": [
    "import numpy as np\n",
    "from sklearn.metrics import mean_squared_error, mean_absolute_error"
   ]
  },
  {
   "cell_type": "markdown",
   "metadata": {},
   "source": [
    "# Evaluation"
   ]
  },
  {
   "cell_type": "code",
   "execution_count": 149,
   "metadata": {},
   "outputs": [
    {
     "name": "stdout",
     "output_type": "stream",
     "text": [
      "root_mean_squared_error: 3377.627827637902 \n",
      "mean_absolute_error: 813.5426998474852 \n",
      "mean_absolute_percentage_error: 0.31704729848650787\n"
     ]
    }
   ],
   "source": [
    "\n",
    "rmse = np.sqrt(mean_squared_error(ltv['actual_total'],ltv['predicted_total']))\n",
    "mae = mean_absolute_error(ltv['actual_total'],ltv['predicted_total'])\n",
    "\n",
    "mae_percent = np.mean(np.abs(ltv['actual_total']-ltv['predicted_total'])/ltv['actual_total'])\n",
    "rscore = r2_score(ltv['actual_total'],ltv['predicted_total'])\n",
    "\n",
    "print('root_mean_squared_error:',rmse,\n",
    "      '\\nmean_absolute_error:',mae,\n",
    "      '\\nmean_absolute_percentage_error:',mae_percent)\n"
   ]
  },
  {
   "cell_type": "code",
   "execution_count": 64,
   "metadata": {},
   "outputs": [
    {
     "data": {
      "image/png": "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\n",
      "text/plain": [
       "<Figure size 432x288 with 1 Axes>"
      ]
     },
     "metadata": {
      "needs_background": "light"
     },
     "output_type": "display_data"
    }
   ],
   "source": [
    "import matplotlib.pyplot as plt\n",
    "\n",
    "plt.figure()\n",
    "plt.plot(ltv.index,np.abs(ltv['actual_total']-ltv['predicted_total'])\n",
    "plt.show()"
   ]
  },
  {
   "cell_type": "code",
   "execution_count": 145,
   "metadata": {},
   "outputs": [
    {
     "data": {
      "image/png": "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\n",
      "text/plain": [
       "<Figure size 1080x360 with 1 Axes>"
      ]
     },
     "metadata": {
      "needs_background": "light"
     },
     "output_type": "display_data"
    }
   ],
   "source": [
    "import matplotlib.pyplot as plt\n",
    "\n",
    "# define histogram bin count\n",
    "bins = 100\n",
    "\n",
    "# plot size\n",
    "plt.figure(figsize=(15, 5))\n",
    "\n",
    "# histogram plot values and presentation\n",
    "plt.hist(ltv['actual_total'], bins, label='actual', histtype='bar', color='STEELBLUE', rwidth=0.99)\n",
    "plt.hist(ltv['predicted_total'], bins, label='predict', histtype='step', color='red',  rwidth=0.99)\n",
    "\n",
    "# place legend on chart\n",
    "plt.legend(loc='upper right')\n",
    "plt.title('Actual CLV v.s. Predicted CLV')\n",
    "plt.show()"
   ]
  },
  {
   "cell_type": "markdown",
   "metadata": {},
   "source": [
    "# Use absolute error access performance over different type of customers"
   ]
  },
  {
   "cell_type": "code",
   "execution_count": 150,
   "metadata": {},
   "outputs": [],
   "source": [
    "error_abs = np.abs(ltv['actual_total']-ltv['predicted_total'])/ltv['actual_total']"
   ]
  },
  {
   "cell_type": "code",
   "execution_count": 67,
   "metadata": {
    "collapsed": true
   },
   "outputs": [
    {
     "data": {
      "text/plain": [
       "0    885\n",
       "3    551\n",
       "2    143\n",
       "4     51\n",
       "1     36\n",
       "Name: Cluster, dtype: int64"
      ]
     },
     "execution_count": 67,
     "metadata": {},
     "output_type": "execute_result"
    }
   ],
   "source": [
    "# mapping clusters\n",
    "cluster_df = pd.read_csv('clustering_dataframe.csv')\n",
    "cluster_df.head()\n",
    "cluster_df = cluster_df[['CustomerID','Cluster']]\n",
    "ndf = pd.merge(df_ft,cluster_df,how = 'left',left_on=df_ft.columns[0],right_on=cluster_df.columns[0])\n"
   ]
  },
  {
   "cell_type": "code",
   "execution_count": 151,
   "metadata": {},
   "outputs": [
    {
     "data": {
      "image/png": "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\n",
      "text/plain": [
       "<Figure size 432x288 with 1 Axes>"
      ]
     },
     "metadata": {
      "needs_background": "light"
     },
     "output_type": "display_data"
    }
   ],
   "source": [
    "q=0.5\n",
    "error_value = np.quantile(error_abs,q)\n",
    "ind = error_abs[error_abs<error_value].index\n",
    "customer = df_ft.loc[ind,'customer_id']\n",
    "error_cluster = ndf.loc[ndf.customer_id.isin(customer),'Cluster']\n",
    "cluster_seg = error_cluster.value_counts()/ndf.Cluster.value_counts()\n",
    "\n",
    "\n",
    "cluster_list = ['Champion','Sleep/Churn','Promising','Loyal','New']\n",
    "import matplotlib.pyplot as plt\n",
    "plt.figure()\n",
    "plt.bar(cluster_seg.index, cluster_seg.values)\n",
    "plt.title('Pediction Performance over Clusters')\n",
    "plt.xticks(ticks=cluster_seg.index,labels=cluster_list)\n",
    "plt.show()"
   ]
  },
  {
   "cell_type": "markdown",
   "metadata": {},
   "source": [
    "The model has better performance for cluster 'Champion','Loyal'and 'New' comparing with customers who are about to churn and who may potentially become loyal."
   ]
  },
  {
   "cell_type": "markdown",
   "metadata": {},
   "source": [
    "# Combine btyd model with other feature and build a linear model\n",
    "\n",
    "### added features: \n",
    "\n",
    "1. 'time_between':The average time between orders for a customer during the features period.\n",
    "\n",
    "2. 'avg_basket_value': The average monetary value of the customer's basket during the features period\n",
    "\n",
    "3. 'avg_basket_size':The number of items that the customer has on average in their basket during the features period.\n",
    "\n",
    "4. 'cnt_returns':The number of orders that the customer has returned during the features period.\n",
    "\n",
    "5. 'has_returned':\tWhether the customer has returned at least one order during the features period.\n",
    "\n",
    "6. 'predicted_total': Predicted CLV from btyd model(BG/NBD-GG)"
   ]
  },
  {
   "cell_type": "code",
   "execution_count": 84,
   "metadata": {},
   "outputs": [
    {
     "data": {
      "text/html": [
       "<div>\n",
       "<style scoped>\n",
       "    .dataframe tbody tr th:only-of-type {\n",
       "        vertical-align: middle;\n",
       "    }\n",
       "\n",
       "    .dataframe tbody tr th {\n",
       "        vertical-align: top;\n",
       "    }\n",
       "\n",
       "    .dataframe thead th {\n",
       "        text-align: right;\n",
       "    }\n",
       "</style>\n",
       "<table border=\"1\" class=\"dataframe\">\n",
       "  <thead>\n",
       "    <tr style=\"text-align: right;\">\n",
       "      <th></th>\n",
       "      <th>customer_id</th>\n",
       "      <th>time_between</th>\n",
       "      <th>avg_basket_value</th>\n",
       "      <th>avg_basket_size</th>\n",
       "      <th>cnt_returns</th>\n",
       "      <th>has_returned</th>\n",
       "      <th>btyd_ltv</th>\n",
       "    </tr>\n",
       "  </thead>\n",
       "  <tbody>\n",
       "    <tr>\n",
       "      <th>0</th>\n",
       "      <td>12347</td>\n",
       "      <td>47.0</td>\n",
       "      <td>558.17</td>\n",
       "      <td>318.00</td>\n",
       "      <td>0</td>\n",
       "      <td>0</td>\n",
       "      <td>3714.276601</td>\n",
       "    </tr>\n",
       "    <tr>\n",
       "      <th>1</th>\n",
       "      <td>12348</td>\n",
       "      <td>36.0</td>\n",
       "      <td>495.75</td>\n",
       "      <td>708.00</td>\n",
       "      <td>0</td>\n",
       "      <td>0</td>\n",
       "      <td>1863.671706</td>\n",
       "    </tr>\n",
       "    <tr>\n",
       "      <th>2</th>\n",
       "      <td>12352</td>\n",
       "      <td>8.0</td>\n",
       "      <td>150.30</td>\n",
       "      <td>47.00</td>\n",
       "      <td>0</td>\n",
       "      <td>0</td>\n",
       "      <td>944.057121</td>\n",
       "    </tr>\n",
       "    <tr>\n",
       "      <th>3</th>\n",
       "      <td>12356</td>\n",
       "      <td>40.0</td>\n",
       "      <td>1376.54</td>\n",
       "      <td>793.00</td>\n",
       "      <td>0</td>\n",
       "      <td>0</td>\n",
       "      <td>3117.495649</td>\n",
       "    </tr>\n",
       "    <tr>\n",
       "      <th>4</th>\n",
       "      <td>12359</td>\n",
       "      <td>35.0</td>\n",
       "      <td>864.98</td>\n",
       "      <td>240.25</td>\n",
       "      <td>1</td>\n",
       "      <td>1</td>\n",
       "      <td>4839.034684</td>\n",
       "    </tr>\n",
       "  </tbody>\n",
       "</table>\n",
       "</div>"
      ],
      "text/plain": [
       "   customer_id  time_between  avg_basket_value  avg_basket_size  cnt_returns  \\\n",
       "0        12347          47.0            558.17           318.00            0   \n",
       "1        12348          36.0            495.75           708.00            0   \n",
       "2        12352           8.0            150.30            47.00            0   \n",
       "3        12356          40.0           1376.54           793.00            0   \n",
       "4        12359          35.0            864.98           240.25            1   \n",
       "\n",
       "   has_returned     btyd_ltv  \n",
       "0             0  3714.276601  \n",
       "1             0  1863.671706  \n",
       "2             0   944.057121  \n",
       "3             0  3117.495649  \n",
       "4             1  4839.034684  "
      ]
     },
     "execution_count": 84,
     "metadata": {},
     "output_type": "execute_result"
    }
   ],
   "source": [
    "linear_feature = ['customer_id','time_between','avg_basket_value','avg_basket_size','cnt_returns','has_returned']\n",
    "df_feature = df_ft[linear_feature]\n",
    "df_feature['btyd_ltv'] = ltv['predicted_total']\n"
   ]
  },
  {
   "cell_type": "code",
   "execution_count": 85,
   "metadata": {},
   "outputs": [],
   "source": [
    "from sklearn.preprocessing import StandardScaler\n",
    "from sklearn.linear_model import LinearRegression\n",
    "from sklearn.model_selection import train_test_split\n",
    "\n",
    "train_X,test_X,train_y,test_y = train_test_split(df_feature,df_ft['target_monetary'],random_state = 42)\n",
    "\n",
    "scaler = StandardScaler()\n",
    "X_tr = scaler.fit_transform(train_X)\n",
    "X_te = scaler.transform(test_X)\n",
    "\n",
    "linear = LinearRegression()\n",
    "linear.fit(X_tr,train_y)\n",
    "pred_y = linear.predict(X_te)\n",
    "mean_squared_error(test_y,pred_y)"
   ]
  },
  {
   "cell_type": "code",
   "execution_count": 115,
   "metadata": {},
   "outputs": [
    {
     "name": "stdout",
     "output_type": "stream",
     "text": [
      "Root Mean Squared Error: 1947.7269590668557\n"
     ]
    }
   ],
   "source": [
    "print('Root Mean Squared Error:', np.sqrt(mean_squared_error(test_y,pred_y)))"
   ]
  },
  {
   "cell_type": "code",
   "execution_count": 109,
   "metadata": {},
   "outputs": [
    {
     "data": {
      "image/png": "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\n",
      "text/plain": [
       "<Figure size 432x288 with 1 Axes>"
      ]
     },
     "metadata": {
      "needs_background": "light"
     },
     "output_type": "display_data"
    }
   ],
   "source": [
    "linear_error = np.abs(test_y-pred_y)/test_y\n",
    "\n",
    "q=0.5\n",
    "error_value = np.quantile(linear_error,q)\n",
    "ind = linear_error[linear_error<error_value].index\n",
    "customer = df_ft.loc[ind,'customer_id']\n",
    "target_customer = df_ft.loc[test_y.index,'customer_id']\n",
    "error_cluster = ndf.loc[ndf.customer_id.isin(customer),'Cluster']\n",
    "target_cluster = ndf.loc[ndf.customer_id.isin(target_customer),'Cluster']\n",
    "cluster_seg = error_cluster.value_counts()/target_cluster.value_counts()\n",
    "\n",
    "\n",
    "cluster_list = {0:'Champion',1:'Sleep/Churn',2:'Promising',3:'Loyal',4:'New'}\n",
    "\n",
    "labels = [cluster_list[i] for i in cluster_seg.index.to_list()]\n",
    "import matplotlib.pyplot as plt\n",
    "plt.figure()\n",
    "plt.bar(cluster_seg.index, cluster_seg.values)\n",
    "plt.title('Pediction Performance over Clusters')\n",
    "plt.xticks(ticks=cluster_seg.index,labels=labels)\n",
    "plt.show()"
   ]
  },
  {
   "cell_type": "code",
   "execution_count": 147,
   "metadata": {},
   "outputs": [
    {
     "data": {
      "text/plain": [
       "0   0.665236\n",
       "3   0.328358\n",
       "2   0.189189\n",
       "4   0.125000\n",
       "1   0.200000\n",
       "Name: Cluster, dtype: float64"
      ]
     },
     "execution_count": 147,
     "metadata": {},
     "output_type": "execute_result"
    }
   ],
   "source": [
    "cluster_seg"
   ]
  },
  {
   "cell_type": "markdown",
   "metadata": {},
   "source": [
    "In terms of root mean squared error, the hybrid model(1947) is much bettter than the bytd model (3377). Although the performance for 'Loyal' and 'New' is not as good as the bytd model, the performance for 'Sleep/Churn' and 'Promising' have been significantly improved."
   ]
  }
 ],
 "metadata": {
  "kernelspec": {
   "display_name": "Python 3",
   "language": "python",
   "name": "python3"
  },
  "language_info": {
   "codemirror_mode": {
    "name": "ipython",
    "version": 3
   },
   "file_extension": ".py",
   "mimetype": "text/x-python",
   "name": "python",
   "nbconvert_exporter": "python",
   "pygments_lexer": "ipython3",
   "version": "3.8.2"
  }
 },
 "nbformat": 4,
 "nbformat_minor": 5
}
